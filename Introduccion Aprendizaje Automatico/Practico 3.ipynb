{
 "cells": [
  {
   "cell_type": "markdown",
   "metadata": {},
   "source": [
    "Analizar la estructura original de los datos, permite resolver un problema de clasificacion o de regresion?\n",
    "\n",
    "Identificar que features podrian usarse como X y cual/es como Y. Adaptar los datos de acuerdo a esta elección.\n",
    "\n",
    "Que otras features podrian generarse a como X partir de los datos existentes?\n",
    "\n",
    "A partir de lo analizado en el práctico 1 que modelos considera adecuados para modelar el problema?\n",
    "\n",
    "Entrenar estos modelos, graficar curva real y curva predicha, analizar error."
   ]
  }
 ],
 "metadata": {
  "kernelspec": {
   "display_name": "Python 3",
   "language": "python",
   "name": "python3"
  },
  "language_info": {
   "codemirror_mode": {
    "name": "ipython",
    "version": 3
   },
   "file_extension": ".py",
   "mimetype": "text/x-python",
   "name": "python",
   "nbconvert_exporter": "python",
   "pygments_lexer": "ipython3",
   "version": "3.6.9"
  }
 },
 "nbformat": 4,
 "nbformat_minor": 4
}
