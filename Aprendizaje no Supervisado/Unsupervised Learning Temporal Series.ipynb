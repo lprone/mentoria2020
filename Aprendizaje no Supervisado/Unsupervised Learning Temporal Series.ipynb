{
 "cells": [
  {
   "cell_type": "markdown",
   "metadata": {},
   "source": [
    "Ejercicios:\n",
    "\n",
    "1) Definir un conjunto de países de interes, aplicar clustering a la curva de infectados considerando rangos de 1 mes y analizar los resultados con respecto al cluster al que pertenecen los países analizados\n",
    "\n",
    "(Identificar nro optimo de clusters)\n",
    "\n",
    "2) A partir de la ingeniería de features realizada en prácticos anteriores aplicar clustering y comparar con los resultados anteriores\n",
    "\n",
    "3) A partir de la curva de cantidad de infectados (pueden usarse features alternativas si lo considera conveniente), identificar eventos anomalos a partir del análisis de clusters obtenidos."
   ]
  }
 ],
 "metadata": {
  "kernelspec": {
   "display_name": "Python 3",
   "language": "python",
   "name": "python3"
  },
  "language_info": {
   "codemirror_mode": {
    "name": "ipython",
    "version": 3
   },
   "file_extension": ".py",
   "mimetype": "text/x-python",
   "name": "python",
   "nbconvert_exporter": "python",
   "pygments_lexer": "ipython3",
   "version": "3.8.6"
  }
 },
 "nbformat": 4,
 "nbformat_minor": 4
}
