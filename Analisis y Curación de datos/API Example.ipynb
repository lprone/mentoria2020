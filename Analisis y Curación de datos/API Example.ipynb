{
 "cells": [
  {
   "cell_type": "code",
   "execution_count": 1,
   "metadata": {},
   "outputs": [],
   "source": [
    "import requests"
   ]
  },
  {
   "cell_type": "markdown",
   "metadata": {},
   "source": [
    "https://datos.gob.ar/ar/dataset/jgm-servicio-normalizacion-datos-geograficos/archivo/jgm_8.16"
   ]
  },
  {
   "cell_type": "code",
   "execution_count": 2,
   "metadata": {},
   "outputs": [],
   "source": [
    "url = 'https://infra.datos.gob.ar/catalog/modernizacion/dataset/7/distribution/7.12/download/provincias.geojson'"
   ]
  },
  {
   "cell_type": "code",
   "execution_count": 3,
   "metadata": {},
   "outputs": [
    {
     "data": {
      "text/plain": [
       "{'features': [{'properties': {'nombre_completo': 'Provincia de Misiones',\n",
       "    'fuente': 'IGN',\n",
       "    'iso_id': 'AR-N',\n",
       "    'nombre': 'Misiones',\n",
       "    'id': '54',\n",
       "    'categoria': 'Provincia',\n",
       "    'iso_nombre': 'Misiones'},\n",
       "   'type': 'Feature',\n",
       "   'geometry': {'coordinates': [-54.6516966230371, -26.8753965086829],\n",
       "    'type': 'Point'}},\n",
       "  {'properties': {'nombre_completo': 'Provincia de San Luis',\n",
       "    'fuente': 'IGN',\n",
       "    'iso_id': 'AR-D',\n",
       "    'nombre': 'San Luis',\n",
       "    'id': '74',\n",
       "    'categoria': 'Provincia',\n",
       "    'iso_nombre': 'San Luis'},\n",
       "   'type': 'Feature',\n",
       "   'geometry': {'coordinates': [-66.0281298195836, -33.7577257449137],\n",
       "    'type': 'Point'}},\n",
       "  {'properties': {'nombre_completo': 'Provincia de San Juan',\n",
       "    'fuente': 'IGN',\n",
       "    'iso_id': 'AR-J',\n",
       "    'nombre': 'San Juan',\n",
       "    'id': '70',\n",
       "    'categoria': 'Provincia',\n",
       "    'iso_nombre': 'San Juan'},\n",
       "   'type': 'Feature',\n",
       "   'geometry': {'coordinates': [-68.8894908486844, -30.8653679979618],\n",
       "    'type': 'Point'}},\n",
       "  {'properties': {'nombre_completo': 'Provincia de Entre Ríos',\n",
       "    'fuente': 'IGN',\n",
       "    'iso_id': 'AR-E',\n",
       "    'nombre': 'Entre Ríos',\n",
       "    'id': '30',\n",
       "    'categoria': 'Provincia',\n",
       "    'iso_nombre': 'Entre Ríos'},\n",
       "   'type': 'Feature',\n",
       "   'geometry': {'coordinates': [-59.2014475514635, -32.0588735436448],\n",
       "    'type': 'Point'}},\n",
       "  {'properties': {'nombre_completo': 'Provincia de Santa Cruz',\n",
       "    'fuente': 'IGN',\n",
       "    'iso_id': 'AR-Z',\n",
       "    'nombre': 'Santa Cruz',\n",
       "    'id': '78',\n",
       "    'categoria': 'Provincia',\n",
       "    'iso_nombre': 'Santa Cruz'},\n",
       "   'type': 'Feature',\n",
       "   'geometry': {'coordinates': [-69.9557621671973, -48.8154851827063],\n",
       "    'type': 'Point'}},\n",
       "  {'properties': {'nombre_completo': 'Provincia de Río Negro',\n",
       "    'fuente': 'IGN',\n",
       "    'iso_id': 'AR-R',\n",
       "    'nombre': 'Río Negro',\n",
       "    'id': '62',\n",
       "    'categoria': 'Provincia',\n",
       "    'iso_nombre': 'Río Negro'},\n",
       "   'type': 'Feature',\n",
       "   'geometry': {'coordinates': [-67.229329893694, -40.4057957178801],\n",
       "    'type': 'Point'}},\n",
       "  {'properties': {'nombre_completo': 'Provincia del Chubut',\n",
       "    'fuente': 'IGN',\n",
       "    'iso_id': 'AR-U',\n",
       "    'nombre': 'Chubut',\n",
       "    'id': '26',\n",
       "    'categoria': 'Provincia',\n",
       "    'iso_nombre': 'Chubut'},\n",
       "   'type': 'Feature',\n",
       "   'geometry': {'coordinates': [-68.5267593943345, -43.7886233529878],\n",
       "    'type': 'Point'}},\n",
       "  {'properties': {'nombre_completo': 'Provincia de Córdoba',\n",
       "    'fuente': 'IGN',\n",
       "    'iso_id': 'AR-X',\n",
       "    'nombre': 'Córdoba',\n",
       "    'id': '14',\n",
       "    'categoria': 'Provincia',\n",
       "    'iso_nombre': 'Córdoba'},\n",
       "   'type': 'Feature',\n",
       "   'geometry': {'coordinates': [-63.8017532741662, -32.142932663607],\n",
       "    'type': 'Point'}},\n",
       "  {'properties': {'nombre_completo': 'Provincia de Mendoza',\n",
       "    'fuente': 'IGN',\n",
       "    'iso_id': 'AR-M',\n",
       "    'nombre': 'Mendoza',\n",
       "    'id': '50',\n",
       "    'categoria': 'Provincia',\n",
       "    'iso_nombre': 'Mendoza'},\n",
       "   'type': 'Feature',\n",
       "   'geometry': {'coordinates': [-68.5831228183798, -34.6298873058957],\n",
       "    'type': 'Point'}},\n",
       "  {'properties': {'nombre_completo': 'Provincia de La Rioja',\n",
       "    'fuente': 'IGN',\n",
       "    'iso_id': 'AR-F',\n",
       "    'nombre': 'La Rioja',\n",
       "    'id': '46',\n",
       "    'categoria': 'Provincia',\n",
       "    'iso_nombre': 'La Rioja'},\n",
       "   'type': 'Feature',\n",
       "   'geometry': {'coordinates': [-67.1817359694432, -29.685776298315],\n",
       "    'type': 'Point'}},\n",
       "  {'properties': {'nombre_completo': 'Provincia de Catamarca',\n",
       "    'fuente': 'IGN',\n",
       "    'iso_id': 'AR-K',\n",
       "    'nombre': 'Catamarca',\n",
       "    'id': '10',\n",
       "    'categoria': 'Provincia',\n",
       "    'iso_nombre': 'Catamarca'},\n",
       "   'type': 'Feature',\n",
       "   'geometry': {'coordinates': [-66.9476824299928, -27.3358332810217],\n",
       "    'type': 'Point'}},\n",
       "  {'properties': {'nombre_completo': 'Provincia de La Pampa',\n",
       "    'fuente': 'IGN',\n",
       "    'iso_id': 'AR-L',\n",
       "    'nombre': 'La Pampa',\n",
       "    'id': '42',\n",
       "    'categoria': 'Provincia',\n",
       "    'iso_nombre': 'La Pampa'},\n",
       "   'type': 'Feature',\n",
       "   'geometry': {'coordinates': [-65.4466546606951, -37.1315537735949],\n",
       "    'type': 'Point'}},\n",
       "  {'properties': {'nombre_completo': 'Provincia de Santiago del Estero',\n",
       "    'fuente': 'IGN',\n",
       "    'iso_id': 'AR-G',\n",
       "    'nombre': 'Santiago del Estero',\n",
       "    'id': '86',\n",
       "    'categoria': 'Provincia',\n",
       "    'iso_nombre': 'Santiago del Estero'},\n",
       "   'type': 'Feature',\n",
       "   'geometry': {'coordinates': [-63.2523866568588, -27.7824116550944],\n",
       "    'type': 'Point'}},\n",
       "  {'properties': {'nombre_completo': 'Provincia de Corrientes',\n",
       "    'fuente': 'IGN',\n",
       "    'iso_id': 'AR-W',\n",
       "    'nombre': 'Corrientes',\n",
       "    'id': '18',\n",
       "    'categoria': 'Provincia',\n",
       "    'iso_nombre': 'Corrientes'},\n",
       "   'type': 'Feature',\n",
       "   'geometry': {'coordinates': [-57.8012191977913, -28.7743047046407],\n",
       "    'type': 'Point'}},\n",
       "  {'properties': {'nombre_completo': 'Provincia de Santa Fe',\n",
       "    'fuente': 'IGN',\n",
       "    'iso_id': 'AR-S',\n",
       "    'nombre': 'Santa Fe',\n",
       "    'id': '82',\n",
       "    'categoria': 'Provincia',\n",
       "    'iso_nombre': 'Santa Fe'},\n",
       "   'type': 'Feature',\n",
       "   'geometry': {'coordinates': [-60.9498369430241, -30.7069271588117],\n",
       "    'type': 'Point'}},\n",
       "  {'properties': {'nombre_completo': 'Provincia de Tucumán',\n",
       "    'fuente': 'IGN',\n",
       "    'iso_id': 'AR-T',\n",
       "    'nombre': 'Tucumán',\n",
       "    'id': '90',\n",
       "    'categoria': 'Provincia',\n",
       "    'iso_nombre': 'Tucumán'},\n",
       "   'type': 'Feature',\n",
       "   'geometry': {'coordinates': [-65.3647579441481, -26.9478001830786],\n",
       "    'type': 'Point'}},\n",
       "  {'properties': {'nombre_completo': 'Provincia del Neuquén',\n",
       "    'fuente': 'IGN',\n",
       "    'iso_id': 'AR-Q',\n",
       "    'nombre': 'Neuquén',\n",
       "    'id': '58',\n",
       "    'categoria': 'Provincia',\n",
       "    'iso_nombre': 'Neuquén'},\n",
       "   'type': 'Feature',\n",
       "   'geometry': {'coordinates': [-70.1185705180601, -38.6417575824599],\n",
       "    'type': 'Point'}},\n",
       "  {'properties': {'nombre_completo': 'Provincia de Salta',\n",
       "    'fuente': 'IGN',\n",
       "    'iso_id': 'AR-A',\n",
       "    'nombre': 'Salta',\n",
       "    'id': '66',\n",
       "    'categoria': 'Provincia',\n",
       "    'iso_nombre': 'Salta'},\n",
       "   'type': 'Feature',\n",
       "   'geometry': {'coordinates': [-64.8144629600627, -24.2991344492002],\n",
       "    'type': 'Point'}},\n",
       "  {'properties': {'nombre_completo': 'Provincia del Chaco',\n",
       "    'fuente': 'IGN',\n",
       "    'iso_id': 'AR-H',\n",
       "    'nombre': 'Chaco',\n",
       "    'id': '22',\n",
       "    'categoria': 'Provincia',\n",
       "    'iso_nombre': 'Chaco'},\n",
       "   'type': 'Feature',\n",
       "   'geometry': {'coordinates': [-60.7658307438603, -26.3864309061226],\n",
       "    'type': 'Point'}},\n",
       "  {'properties': {'nombre_completo': 'Provincia de Formosa',\n",
       "    'fuente': 'IGN',\n",
       "    'iso_id': 'AR-P',\n",
       "    'nombre': 'Formosa',\n",
       "    'id': '34',\n",
       "    'categoria': 'Provincia',\n",
       "    'iso_nombre': 'Formosa'},\n",
       "   'type': 'Feature',\n",
       "   'geometry': {'coordinates': [-59.9324405800872, -24.894972594871],\n",
       "    'type': 'Point'}},\n",
       "  {'properties': {'nombre_completo': 'Provincia de Jujuy',\n",
       "    'fuente': 'IGN',\n",
       "    'iso_id': 'AR-Y',\n",
       "    'nombre': 'Jujuy',\n",
       "    'id': '38',\n",
       "    'categoria': 'Provincia',\n",
       "    'iso_nombre': 'Jujuy'},\n",
       "   'type': 'Feature',\n",
       "   'geometry': {'coordinates': [-65.7642522180337, -23.3200784211351],\n",
       "    'type': 'Point'}},\n",
       "  {'properties': {'nombre_completo': 'Ciudad Autónoma de Buenos Aires',\n",
       "    'fuente': 'IGN',\n",
       "    'iso_id': 'AR-C',\n",
       "    'nombre': 'Ciudad Autónoma de Buenos Aires',\n",
       "    'id': '02',\n",
       "    'categoria': 'Ciudad Autónoma',\n",
       "    'iso_nombre': 'Ciudad Autónoma de Buenos Aires'},\n",
       "   'type': 'Feature',\n",
       "   'geometry': {'coordinates': [-58.4458563545429, -34.6144934119689],\n",
       "    'type': 'Point'}},\n",
       "  {'properties': {'nombre_completo': 'Provincia de Buenos Aires',\n",
       "    'fuente': 'IGN',\n",
       "    'iso_id': 'AR-B',\n",
       "    'nombre': 'Buenos Aires',\n",
       "    'id': '06',\n",
       "    'categoria': 'Provincia',\n",
       "    'iso_nombre': 'Buenos Aires'},\n",
       "   'type': 'Feature',\n",
       "   'geometry': {'coordinates': [-60.5588319815719, -36.6769415180527],\n",
       "    'type': 'Point'}},\n",
       "  {'properties': {'nombre_completo': 'Provincia de Tierra del Fuego, Antártida e Islas del Atlántico Sur',\n",
       "    'fuente': 'IGN',\n",
       "    'iso_id': 'AR-V',\n",
       "    'nombre': 'Tierra del Fuego, Antártida e Islas del Atlántico Sur',\n",
       "    'id': '94',\n",
       "    'categoria': 'Provincia',\n",
       "    'iso_nombre': 'Tierra del Fuego'},\n",
       "   'type': 'Feature',\n",
       "   'geometry': {'coordinates': [-50.7427486049785, -82.52151781221],\n",
       "    'type': 'Point'}}],\n",
       " 'type': 'FeatureCollection'}"
      ]
     },
     "execution_count": 3,
     "metadata": {},
     "output_type": "execute_result"
    }
   ],
   "source": [
    "request = requests.get(url = url) \n",
    "data = request.json()\n",
    "data"
   ]
  },
  {
   "cell_type": "code",
   "execution_count": 4,
   "metadata": {},
   "outputs": [
    {
     "data": {
      "text/plain": [
       "dict_keys(['properties', 'type', 'geometry'])"
      ]
     },
     "execution_count": 4,
     "metadata": {},
     "output_type": "execute_result"
    }
   ],
   "source": [
    "data[\"features\"][0].keys()"
   ]
  },
  {
   "cell_type": "code",
   "execution_count": 5,
   "metadata": {},
   "outputs": [
    {
     "data": {
      "text/plain": [
       "{'nombre_completo': 'Provincia de Misiones',\n",
       " 'fuente': 'IGN',\n",
       " 'iso_id': 'AR-N',\n",
       " 'nombre': 'Misiones',\n",
       " 'id': '54',\n",
       " 'categoria': 'Provincia',\n",
       " 'iso_nombre': 'Misiones'}"
      ]
     },
     "execution_count": 5,
     "metadata": {},
     "output_type": "execute_result"
    }
   ],
   "source": [
    "data[\"features\"][0][\"properties\"]"
   ]
  },
  {
   "cell_type": "code",
   "execution_count": 6,
   "metadata": {},
   "outputs": [
    {
     "data": {
      "text/plain": [
       "{'coordinates': [-54.6516966230371, -26.8753965086829], 'type': 'Point'}"
      ]
     },
     "execution_count": 6,
     "metadata": {},
     "output_type": "execute_result"
    }
   ],
   "source": [
    "data[\"features\"][0][\"geometry\"]"
   ]
  },
  {
   "cell_type": "markdown",
   "metadata": {},
   "source": [
    "------"
   ]
  },
  {
   "cell_type": "code",
   "execution_count": 7,
   "metadata": {},
   "outputs": [
    {
     "data": {
      "text/plain": [
       "{'cantidad': 1,\n",
       " 'inicio': 0,\n",
       " 'parametros': {'nombre': 'cordoba'},\n",
       " 'provincias': [{'centroide': {'lat': -32.142932663607,\n",
       "    'lon': -63.8017532741662},\n",
       "   'id': '14',\n",
       "   'nombre': 'Córdoba'}],\n",
       " 'total': 1}"
      ]
     },
     "execution_count": 7,
     "metadata": {},
     "output_type": "execute_result"
    }
   ],
   "source": [
    "request = requests.get(url = 'https://apis.datos.gob.ar/georef/api/provincias?nombre=cordoba') \n",
    "data = request.json()\n",
    "data"
   ]
  },
  {
   "cell_type": "code",
   "execution_count": 8,
   "metadata": {},
   "outputs": [
    {
     "name": "stdout",
     "output_type": "stream",
     "text": [
      "-32.142932663607\n",
      "-63.8017532741662\n"
     ]
    }
   ],
   "source": [
    "print(data.get('provincias')[0].get('centroide').get('lat'))\n",
    "print(data.get('provincias')[0].get('centroide').get('lon'))"
   ]
  }
 ],
 "metadata": {
  "kernelspec": {
   "display_name": "Python 3",
   "language": "python",
   "name": "python3"
  },
  "language_info": {
   "codemirror_mode": {
    "name": "ipython",
    "version": 3
   },
   "file_extension": ".py",
   "mimetype": "text/x-python",
   "name": "python",
   "nbconvert_exporter": "python",
   "pygments_lexer": "ipython3",
   "version": "3.8.1"
  }
 },
 "nbformat": 4,
 "nbformat_minor": 2
}
