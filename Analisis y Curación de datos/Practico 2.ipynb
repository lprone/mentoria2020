{
 "cells": [
  {
   "cell_type": "markdown",
   "metadata": {},
   "source": [
    "0. Analizar tipo de vada variable, y formato de fechas usado y modificarlos segun considere necesario\n",
    "\n",
    "\n",
    "1. Ejecutar API en docker con el comando:\n",
    "\n",
    "    *docker run --rm -p 8080:8080 lprone/cityapi*\n",
    "\n",
    "    Consultar los siguientes endpoints:\n",
    "\n",
    "    http://localhost:8080/cities\n",
    "\n",
    "    http://localhost:8080/city?name=Rosario\n",
    "\n",
    "    Completar datos de las columnas **lat** y **long** para Argentina con la información disponible.\n",
    "\n",
    "\n",
    "2. Completar la informacion de provincias restantes a partir de la consulta de la siguiente API:\n",
    "\n",
    "    https://apis.datos.gob.ar/georef/api/provincias?nombre=cordoba\n",
    "    \n",
    "\n",
    "\n"
   ]
  }
 ],
 "metadata": {
  "kernelspec": {
   "display_name": "Python 3",
   "language": "python",
   "name": "python3"
  },
  "language_info": {
   "codemirror_mode": {
    "name": "ipython",
    "version": 3
   },
   "file_extension": ".py",
   "mimetype": "text/x-python",
   "name": "python",
   "nbconvert_exporter": "python",
   "pygments_lexer": "ipython3",
   "version": "3.8.1"
  }
 },
 "nbformat": 4,
 "nbformat_minor": 4
}
